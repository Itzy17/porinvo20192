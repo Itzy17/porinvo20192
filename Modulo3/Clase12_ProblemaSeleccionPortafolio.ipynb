{
 "cells": [
  {
   "cell_type": "markdown",
   "metadata": {},
   "source": [
    "# Problema de selección de portafolio con preferencias media-varianza\n",
    "\n",
    "<img style=\"float: right; margin: 0px 0px 15px 15px;\" src=\"https://encrypted-tbn0.gstatic.com/images?q=tbn:ANd9GcTuJvMFl4gvu5hxxkiWSANNVUAYO-oVpCJCivsl6Vllt6m6J9qUNw\" width=\"400px\" height=\"400px\" />\n",
    "\n",
    "En la clase pasada hablamos acerca de:\n",
    "- preferencias,\n",
    "- funciones de utilidad,\n",
    "- la actitud de los inversionistas de cara al riesgo,\n",
    "- la aversión al riesgo, entre otros.\n",
    "\n",
    "Todas ellas son piezas que necesitamos para responder la pregunta de ¿cómo un inversionista toma la decisión óptima de selección de portafolio?\n",
    "\n",
    "En esta clase al fin estamos listos para ensamblar estos conceptos y escribir el problema de selección de portafolios. \n",
    "\n",
    "En el camino aprenderemos acerca del concepto de **utilidad esperada**, que nos permite trabajar con incertidumbre en el modelado económico (una de las ideas más importantes en economía). Esta idea tiene más de 60 años, y básicamente dice que los individuos, cuando están de cara a incertidumbre, maximizan el valor esperado de su utilidad (solo cierto si somos homo economicus). \n",
    "\n",
    "Además del concepto de utilidad esperada, aprenderemos acerca de **preferencias media-varianza**. Es decir, supondremos que los inversionistas toman decisiones basados en un tipo particular de preferencias.\n",
    "\n",
    "Con lo anterior, estableceremos el problema de selección de portafolios.\n",
    "\n",
    "**Objetivos:**\n",
    "\n",
    "- ¿Qué es utilidad esperada?\n",
    "- ¿Qué son las preferencias media-varianza?\n",
    "- Funciones de utilidad media-varianza.\n",
    "- Enunciado y solución del problema básico de selección de portafolio.\n",
    "\n",
    "*Referencia:*\n",
    "- Notas del curso \"Portfolio Selection and Risk Management\", Rice University, disponible en Coursera.\n",
    "___"
   ]
  },
  {
   "cell_type": "markdown",
   "metadata": {},
   "source": [
    "## 1. Utilidad esperada\n",
    "- Básicamente combina las probabilidades de los resultados con cómo los inversionistas se sienten con dichos resultados.\n",
    "- En otras palabras, la utilidad esperada multiplica la probabilidad de suceso de un evento con la utilidad que genera dicho evento.\n",
    "\n",
    "Recordemos que las *funciones de utilidad* permiten a los inversionistas expresar cómo se sienten con los resultados, especialmente en los malos ratos. \n",
    "\n",
    "Entonces la *utilidad esperada* es una herramienta que nos permite cuantificar cómo nos sentimos en nuestros malos momentos económicos, capturando el riesgo con la probabilidad de ocurrencia de dichos malos momentos. "
   ]
  },
  {
   "cell_type": "markdown",
   "metadata": {},
   "source": [
    "Dado este marco de trabajo, cualquier decisión se puede escribir como la maximización de la utilidad esperada:\n",
    "\\begin{align}\n",
    "\\max_{\\theta} & \\quad E[U(W)], \\\\\n",
    "\\end{align}\n",
    "mediante la escogencia de cierta variable $\\theta$ (gastos, planes de ahorro, compra de activos, planes de producción, etc.).\n",
    "\n",
    "Para nuestros propósitos, la variable de decisión serán los pesos o ponderaciones del portafolio.\n",
    "\n",
    "Adicionalmente, en el contexto de la decisión de distribución de la riqueza entre activos, el problema de maximización tendrá comúnmente las siguientes restricciones:\n",
    "- universo de inversión,\n",
    "- posición en los activos dados."
   ]
  },
  {
   "cell_type": "markdown",
   "metadata": {},
   "source": [
    "**Ejemplo.** \n",
    "\n",
    "Supongamos que un inversionista debe determinar la composición óptima de su portafolio, que contiene activos y bonos. Supongamos que son los únicos instrumentos disponibles.\n",
    "\n",
    "Sean:\n",
    "- $w_s$: peso o ponderación de activos en el portafolio,\n",
    "- $w_b$: peso o ponderación de bonos en el portafolio,\n",
    "- $r_s$: rendimiento de los activos, y\n",
    "- $r_b$: rendimiento de los bonos.\n",
    "\n",
    "De manera que podemos escribir el problema de selección de portafolios como la maximización de la utilidad esperade de nuestra riqueza futura, la cual dependerá de nuestros rendimientos:\n",
    " \n",
    "\\begin{align}\n",
    "\\max_{w_s,w_b} &\\quad E[U(W)]\\\\\n",
    "\\text{s. a.}   &\\quad W=W_0(1+w_sr_s+w_br_b)\\\\\n",
    "               &\\quad w_s+w_b=1\n",
    "\\end{align}\n",
    "\n",
    "\n",
    "Preguntas:\n",
    "- ¿Qué significan las restricciones?\n",
    "- Ya que tenemos planteado este problema básico, ¿qué haría falta para empezar a resolverlo?\n",
    "___"
   ]
  },
  {
   "cell_type": "markdown",
   "metadata": {},
   "source": [
    "## 2. Preferencias media-varianza\n",
    "\n",
    "### 2.1. Utilidad media-varianza\n",
    "\n",
    "Entonces, ¿qué funciones de utilidad deberíamos de usar en este problema de selección de portafolios?\n",
    "\n",
    "- La respuesta es: **preferencias media-varianza**.\n",
    "- Éstas serán representadas en términos de funciones de utilidad como: **utilidad media-varianza**.\n",
    "\n",
    "Usamos la *utilidad media-varianza* en el problema de selección de portafolios dado que ésta decribe el \"trade-off\" entre riesgo y rendimiento que enfrentan los inversionistas. La *utilidad media-varianza* está dada por la siguiente expresión:\n",
    "\n",
    "$$U=E[r_p]-\\frac{1}{2}\\gamma\\sigma_p^2,$$\n",
    "\n",
    "donde\n",
    "- $E[r_p]$ es el rendimiento esperado del portafolio,\n",
    "- $\\sigma_p^2$ es la varianza del portafolio, y\n",
    "- $\\gamma$ es el coeficiente de aversión al riesgo. "
   ]
  },
  {
   "cell_type": "markdown",
   "metadata": {},
   "source": [
    "#### Intuición acerca de la función de utilidad media-varianza:\n",
    "- Sólo se preocupa por medias :) y varianzas :(.\n",
    "- Incrementa con: rendimiento esperado del portafolio.\n",
    "- Decrece con: varianza del portafolio.\n",
    "- Malos tiempos: rendimientos son bajos y las volatilidades son altas.\n",
    "- Conecta bastante bien con la teoría moderna de portafolios, la cual caracteriza los rendimientos con medias y varianzas únicamente.\n",
    "- Criticada por su limitación: supone que los inversionistas sólo se preocupan por medias y varianzas."
   ]
  },
  {
   "cell_type": "markdown",
   "metadata": {},
   "source": [
    "### 2.2. Curvas de indiferencia\n",
    "\n",
    "*¿Recuerdan las curvas de nivel que se ven en cálculo de varias variables?*\n",
    "- Bien, acá nos servirán para representar la utilidad media-varianza gráficamente.\n",
    "- En el contexto de utilidad media-varianza, las curvas de nivel se llaman **curvas de indiferencia**.\n",
    "\n",
    "Dados ciertos niveles de utilidad $U_1>U_2>U_3$, las curvas de indiferencia relativas a estos niveles de utilidad, son los lugares geométricos en el espacio de rendimiento esperado vs. volatilidad representados por las siguientes expresiones\n",
    "\n",
    "$$U_1=E[r_p]-\\frac{1}{2}\\gamma\\sigma_p^2\\Rightarrow E[r_p]=\\frac{1}{2}\\gamma\\sigma_p^2+U_1,$$\n",
    "\n",
    "$$U_2=E[r_p]-\\frac{1}{2}\\gamma\\sigma_p^2\\Rightarrow E[r_p]=\\frac{1}{2}\\gamma\\sigma_p^2+U_2,$$\n",
    "\n",
    "$$U_3=E[r_p]-\\frac{1}{2}\\gamma\\sigma_p^2\\Rightarrow E[r_p]=\\frac{1}{2}\\gamma\\sigma_p^2+U_3.$$"
   ]
  },
  {
   "cell_type": "markdown",
   "metadata": {},
   "source": [
    "**Gráficamente**"
   ]
  },
  {
   "cell_type": "code",
   "execution_count": 3,
   "metadata": {},
   "outputs": [],
   "source": [
    "# Importar numpy y pyplot\n",
    "import numpy as np\n",
    "import matplotlib.pyplot as plt\n",
    "%matplotlib inline"
   ]
  },
  {
   "cell_type": "code",
   "execution_count": 6,
   "metadata": {},
   "outputs": [],
   "source": [
    "# Coeficiente de aversión al riesgo (entre 1 y 10 comúnmente)\n",
    "g = 8\n",
    "# Niveles de utilidad 3, 2, 1\n",
    "U1, U2, U3 = 0.3, 0.2, 0.1\n",
    "# Vector de volatilidades (sugerido 1%-60%)\n",
    "sp = np.linspace(0.01, 0.60, 100)\n",
    "# Curvas de indiferencia\n",
    "Erp1 = U1 + 1 / 2 * g * sp**2\n",
    "Erp2 = U2 + 1 / 2 * g * sp**2\n",
    "Erp3 = U3 + 1 / 2 * g * sp**2"
   ]
  },
  {
   "cell_type": "code",
   "execution_count": 7,
   "metadata": {},
   "outputs": [
    {
     "data": {
      "image/png": "[encoded data removed]",
      "text/plain": [
       "<Figure size 432x288 with 1 Axes>"
      ]
     },
     "metadata": {
      "needs_background": "light"
     },
     "output_type": "display_data"
    }
   ],
   "source": [
    "# Gráfica\n",
    "plt.plot(sp, Erp1, 'r', lw=2, label='U1')\n",
    "plt.plot(sp, Erp2, 'b', lw=2, label='U2')\n",
    "plt.plot(sp, Erp3, 'g', lw=2, label='U3')\n",
    "plt.xlabel('Volatilidad ($\\sigma$)')\n",
    "plt.ylabel('Rendimiento esperado ($E[r]$)')\n",
    "plt.legend(loc='best')\n",
    "plt.grid()"
   ]
  },
  {
   "cell_type": "markdown",
   "metadata": {},
   "source": [
    "Bueno, ¿y porqué se llaman curvas de indiferencia?, ¿qué representa una cuva de indiferencia?\n",
    "\n",
    "- Porque sobre una misma curva el nivel de utilidad es el mismo (es indiferente).\n",
    "- Son todas las combinaciones de riesgo y rendimiento que producen un mismo nivel de utilidad."
   ]
  },
  {
   "cell_type": "markdown",
   "metadata": {},
   "source": [
    "Volviendo al problema de selección de portafolios, queremos la utilidad más alta.\n",
    "- ¿Cuál de las anteriores curvas de indiferencia corresponde a la utilidad más alta?\n",
    "- Intuitivamente, ¿porqué?\n",
    "- Curvas de indiferencia para niveles de utilidad más altos, estarán...\n",
    "\n",
    "Notamos además que las anteriores curvas de indiferencia son *paralelas* una con otra. Claro, las dibujamos con el mismo coeficiente de aversión al riesgo.\n",
    "\n",
    "¿Cómo cambian estas curvas para coeficientes de aversión al riesgo más altos?"
   ]
  },
  {
   "cell_type": "code",
   "execution_count": 8,
   "metadata": {},
   "outputs": [],
   "source": [
    "# Coeficientes de aversión al riesgo (entre 1 y 10 comúnmente)\n",
    "g1, g2, g3 = 3, 5, 7\n",
    "# Nivel de utilidad\n",
    "U = 0.05\n",
    "# Vector de volatilidades (sugerido 1%-60%)\n",
    "sp = np.linspace(0.01, 0.6, 100)\n",
    "# Curvas de indiferencia\n",
    "Erp1 = U + 1 / 2 * g1 * sp**2\n",
    "Erp2 = U + 1 / 2 * g2 * sp**2\n",
    "Erp3 = U + 1 / 2 * g3 * sp**2"
   ]
  },
  {
   "cell_type": "code",
   "execution_count": 9,
   "metadata": {},
   "outputs": [
    {
     "data": {
      "image/png": "[encoded data removed]",
      "text/plain": [
       "<Figure size 432x288 with 1 Axes>"
      ]
     },
     "metadata": {
      "needs_background": "light"
     },
     "output_type": "display_data"
    }
   ],
   "source": [
    "# Gráfica\n",
    "plt.plot(sp, Erp1, 'r', lw=2, label='g1')\n",
    "plt.plot(sp, Erp2, 'b', lw=2, label='g2')\n",
    "plt.plot(sp, Erp3, 'g', lw=2, label='g3')\n",
    "plt.xlabel('Volatilidad ($\\sigma$)')\n",
    "plt.ylabel('Rendimiento esperado ($E[r]$)')\n",
    "plt.legend(loc='best')\n",
    "plt.grid()"
   ]
  },
  {
   "cell_type": "markdown",
   "metadata": {},
   "source": [
    "¿Cómo interpretamos las anteriores gráficas?, ¿qué pasa con las personas más aversas al riesgo?\n",
    "- Se puede ver de dos maneras: para un mismo nivel de rendimiento esperado, una persona más aversa al riesgo soporta un nivel menor de riesgo; equivalentemente, para un mismo nivel de riesgo, una persona más aversa al riesgo requerirá un nivel de rendimiento esperado más alto."
   ]
  },
  {
   "cell_type": "markdown",
   "metadata": {},
   "source": [
    "Con todo lo anterior, el problema de selección de portafolios se puede plantear como *\"encontrar la curva de indeferencia más alta dado el conjunto de oportunidades de inversión y restricciones\"*."
   ]
  },
  {
   "cell_type": "markdown",
   "metadata": {},
   "source": [
    "## 3. Problema de selección de portafolios: una ilustración\n",
    "\n",
    "Ahora ilustraremos el problema de selección de portafolios con algunos datos. \n",
    "- Por ahora solo queremos ilustrar gráficamente cómo se resuelve este problema. Trabajar en la intuición.\n",
    "- En las siguientes dos clases nos enfocaremos en cómo resolverlo analíticamente.\n",
    "\n",
    "Acá tenemos el rendimiento medio anual y la volatilidad para dos instrumentos usando datos de EU: instrumentos de deuda (bonos) y acciones. Supondremos que el inversionista solo puede invertir en estas dos clases de instrumentos."
   ]
  },
  {
   "cell_type": "code",
   "execution_count": 1,
   "metadata": {},
   "outputs": [],
   "source": [
    "# Importamos pandas\n",
    "import pandas as pd"
   ]
  },
  {
   "cell_type": "code",
   "execution_count": 2,
   "metadata": {},
   "outputs": [
    {
     "ename": "NameError",
     "evalue": "name 'np' is not defined",
     "output_type": "error",
     "traceback": [
      "\u001b[0;31m---------------------------------------------------------------------------\u001b[0m",
      "\u001b[0;31mNameError\u001b[0m                                 Traceback (most recent call last)",
      "\u001b[0;32m<ipython-input-2-120fcfaec54f>\u001b[0m in \u001b[0;36m<module>\u001b[0;34m\u001b[0m\n\u001b[1;32m      1\u001b[0m \u001b[0;31m# Datos\u001b[0m\u001b[0;34m\u001b[0m\u001b[0;34m\u001b[0m\u001b[0;34m\u001b[0m\u001b[0m\n\u001b[1;32m      2\u001b[0m \u001b[0mdata\u001b[0m\u001b[0;34m=\u001b[0m\u001b[0mpd\u001b[0m\u001b[0;34m.\u001b[0m\u001b[0mDataFrame\u001b[0m\u001b[0;34m(\u001b[0m\u001b[0mindex\u001b[0m\u001b[0;34m=\u001b[0m\u001b[0;34m[\u001b[0m\u001b[0;34m'Stocks'\u001b[0m\u001b[0;34m,\u001b[0m\u001b[0;34m'Bonds'\u001b[0m\u001b[0;34m,\u001b[0m \u001b[0;34m'CorrSB'\u001b[0m\u001b[0;34m]\u001b[0m\u001b[0;34m,\u001b[0m \u001b[0mcolumns\u001b[0m\u001b[0;34m=\u001b[0m\u001b[0;34m[\u001b[0m\u001b[0;34m'Mean'\u001b[0m\u001b[0;34m,\u001b[0m \u001b[0;34m'Std'\u001b[0m\u001b[0;34m]\u001b[0m\u001b[0;34m)\u001b[0m\u001b[0;34m\u001b[0m\u001b[0;34m\u001b[0m\u001b[0m\n\u001b[0;32m----> 3\u001b[0;31m \u001b[0mdata\u001b[0m\u001b[0;34m[\u001b[0m\u001b[0;34m'Mean'\u001b[0m\u001b[0;34m]\u001b[0m \u001b[0;34m=\u001b[0m \u001b[0mnp\u001b[0m\u001b[0;34m.\u001b[0m\u001b[0marray\u001b[0m\u001b[0;34m(\u001b[0m\u001b[0;34m[\u001b[0m\u001b[0;36m0.119\u001b[0m\u001b[0;34m,\u001b[0m\u001b[0;36m0.0591\u001b[0m\u001b[0;34m,\u001b[0m\u001b[0;36m0.113\u001b[0m\u001b[0;34m]\u001b[0m\u001b[0;34m)\u001b[0m\u001b[0;34m\u001b[0m\u001b[0;34m\u001b[0m\u001b[0m\n\u001b[0m\u001b[1;32m      4\u001b[0m \u001b[0mdata\u001b[0m\u001b[0;34m[\u001b[0m\u001b[0;34m'Std'\u001b[0m\u001b[0;34m]\u001b[0m \u001b[0;34m=\u001b[0m \u001b[0mnp\u001b[0m\u001b[0;34m.\u001b[0m\u001b[0marray\u001b[0m\u001b[0;34m(\u001b[0m\u001b[0;34m[\u001b[0m\u001b[0;36m0.1915\u001b[0m\u001b[0;34m,\u001b[0m\u001b[0;36m0.0833\u001b[0m\u001b[0;34m,\u001b[0m\u001b[0;32mNone\u001b[0m\u001b[0;34m]\u001b[0m\u001b[0;34m)\u001b[0m\u001b[0;34m\u001b[0m\u001b[0;34m\u001b[0m\u001b[0m\n\u001b[1;32m      5\u001b[0m \u001b[0mdata\u001b[0m\u001b[0;34m.\u001b[0m\u001b[0mround\u001b[0m\u001b[0;34m(\u001b[0m\u001b[0;36m4\u001b[0m\u001b[0;34m)\u001b[0m\u001b[0;34m\u001b[0m\u001b[0;34m\u001b[0m\u001b[0m\n",
      "\u001b[0;31mNameError\u001b[0m: name 'np' is not defined"
     ]
    }
   ],
   "source": [
    "# Datos\n",
    "data=pd.DataFrame(index=['Stocks','Bonds', 'CorrSB'], columns=['Mean', 'Std'])\n",
    "data['Mean'] = np.array([0.119,0.0591,0.113])\n",
    "data['Std'] = np.array([0.1915,0.0833,None])\n",
    "data.round(4)"
   ]
  },
  {
   "cell_type": "markdown",
   "metadata": {},
   "source": [
    "Entonces, ¿cuál es la distribución de riqueza óptima?, o más bien, ¿cuál es la composición óptima del portafolio para un inversionista dado su nivel de aversión al riesgo?\n",
    "\n",
    "**Primero.** Recordamos que, para dos activos, podemos trazar la frontera de mínima varianza tomando todas las posibles combinaciones de los dos activos.\n",
    "\n",
    "De nuevo, sean:\n",
    "- $w_s=w$: peso o ponderación de activos en el portafolio,\n",
    "- $w_b=1-w$: peso o ponderación de bonos en el portafolio,\n",
    "- $r_s$: rendimiento de los activos, y\n",
    "- $r_b$: rendimiento de los bonos.\n",
    "\n",
    "Entonces\n",
    "\n",
    "$$E[r_p]=wE[r_{s}]+(1-w)E[r_b]$$\n",
    "\n",
    "$$\\sigma_p^2=w^2\\sigma_{s}^2+(1-w)^2\\sigma_b^2+2w(1-w)\\rho_{s,b}\\sigma_s\\sigma_b$$"
   ]
  },
  {
   "cell_type": "code",
   "execution_count": 8,
   "metadata": {},
   "outputs": [],
   "source": [
    "# Vector de w variando entre 0 y 1 con n pasos\n",
    "\n",
    "# Rendimientos esperados individuales\n",
    "\n",
    "# Volatilidades individuales\n",
    "\n",
    "# Correlacion\n"
   ]
  },
  {
   "cell_type": "code",
   "execution_count": 9,
   "metadata": {
    "scrolled": true
   },
   "outputs": [],
   "source": [
    "# Crear un DataFrame cuyas columnas sean rendimiento\n",
    "# y volatilidad del portafolio para cada una de las w\n",
    "# generadas\n"
   ]
  },
  {
   "cell_type": "code",
   "execution_count": 10,
   "metadata": {},
   "outputs": [],
   "source": [
    "# Gráfica\n"
   ]
  },
  {
   "cell_type": "markdown",
   "metadata": {},
   "source": [
    "**Segundo.** Graficamos en la misma ventana, curvas de indiferencia."
   ]
  },
  {
   "cell_type": "code",
   "execution_count": 11,
   "metadata": {},
   "outputs": [],
   "source": [
    "# Niveles de utilidad 0.06, 0.07, 0.09\n",
    "\n",
    "# Coeficiente de aversión al riesgo\n",
    "\n",
    "# Curvas de indiferencia\n"
   ]
  },
  {
   "cell_type": "code",
   "execution_count": 12,
   "metadata": {},
   "outputs": [],
   "source": [
    "# Gráfica\n"
   ]
  },
  {
   "cell_type": "markdown",
   "metadata": {},
   "source": [
    "**Tercero.** La elección óptima está dada por la curva de indiferencia para el nivel de utilidad más alto que es tangente a la frontera media-varianza.\n",
    "- Claramente, esta selección depende del coeficiente de aversión al riesgo."
   ]
  },
  {
   "cell_type": "code",
   "execution_count": 13,
   "metadata": {},
   "outputs": [],
   "source": [
    "# Gráfica con zoom\n",
    "# Gráfica\n"
   ]
  },
  {
   "cell_type": "markdown",
   "metadata": {},
   "source": [
    "# Anuncios parroquiales\n",
    "\n",
    "## 1. Quiz la siguiente clase.\n",
    "## 2. Un par de artículos del WSJ y el NYT que discuten herramientas disponibles para la medición de su propia tolerancia al riesgo:\n",
    "- [Artículo 1](https://www.nytimes.com/2016/02/13/your-money/as-stocks-fall-its-time-to-measure-your-risk-tolerance.html)\n",
    "- [Artículo 2](https://www.wsj.com/articles/check-your-tolerance-for-investment-risk-now-before-markets-sag-1405619939)"
   ]
  },
  {
   "cell_type": "markdown",
   "metadata": {},
   "source": [
    "<script>\n",
    "  $(document).ready(function(){\n",
    "    $('div.prompt').hide();\n",
    "    $('div.back-to-top').hide();\n",
    "    $('nav#menubar').hide();\n",
    "    $('.breadcrumb').hide();\n",
    "    $('.hidden-print').hide();\n",
    "  });\n",
    "</script>\n",
    "\n",
    "<footer id=\"attribution\" style=\"float:right; color:#808080; background:#fff;\">\n",
    "Created with Jupyter by Esteban Jiménez Rodríguez.\n",
    "</footer>"
   ]
  }
 ],
 "metadata": {
  "kernelspec": {
   "display_name": "Python 3",
   "language": "python",
   "name": "python3"
  },
  "language_info": {
   "codemirror_mode": {
    "name": "ipython",
    "version": 3
   },
   "file_extension": ".py",
   "mimetype": "text/x-python",
   "name": "python",
   "nbconvert_exporter": "python",
   "pygments_lexer": "ipython3",
   "version": "3.7.3"
  }
 },
 "nbformat": 4,
 "nbformat_minor": 2
}
